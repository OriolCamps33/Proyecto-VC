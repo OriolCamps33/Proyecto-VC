{
 "cells": [
  {
   "attachments": {},
   "cell_type": "markdown",
   "metadata": {},
   "source": [
    "## Fichero para generar las imagenes stitcheadas de todas las partes de cada corte de la medula"
   ]
  },
  {
   "cell_type": "code",
   "execution_count": 1,
   "metadata": {},
   "outputs": [],
   "source": [
    "import matplotlib.pyplot as plt\n",
    "import cv2\n",
    "import numpy as np\n",
    "import itertools\n",
    "import os"
   ]
  },
  {
   "attachments": {},
   "cell_type": "markdown",
   "metadata": {},
   "source": [
    "Primero de todo generaremos las imagenes procesadas que utilizaremos para el stitching de cada una de las partes de cada corte."
   ]
  },
  {
   "cell_type": "code",
   "execution_count": 2,
   "metadata": {},
   "outputs": [],
   "source": [
    "directorio_actual = os.getcwd()\n",
    "\n",
    "ruta_parts = os.path.join(directorio_actual, \"Parts\")\n",
    "\n",
    "if os.path.exists(ruta_parts):\n",
    "    directorios = os.listdir(ruta_parts)\n",
    "\n",
    "    for directorio in directorios:\n",
    "        ruta_directorio = os.path.join(ruta_parts, directorio)\n",
    "\n",
    "        if os.path.isdir(ruta_directorio):\n",
    "            ruta_bda = os.path.join(ruta_directorio, \"bda\")\n",
    "\n",
    "            if os.path.exists(ruta_bda):\n",
    "                imgs = [archivo for archivo in os.listdir(ruta_bda) if archivo.endswith(\".tif\")]\n",
    "\n",
    "                carpeta_guardado_cv2 = os.path.join(ruta_bda, \"imgs_processed_v3\")\n",
    "                os.makedirs(carpeta_guardado_cv2, exist_ok=True)\n",
    "\n",
    "                os.chdir(ruta_bda)\n",
    "\n",
    "                imagenes_procesadas = []\n",
    "\n",
    "                for i, img in enumerate(imgs):\n",
    "                    ruta_imagen = os.path.join(ruta_bda, img)\n",
    "                    imagen = cv2.imread(ruta_imagen)\n",
    "\n",
    "                    canal_rojo = imagen[:, :, 2]\n",
    "\n",
    "                    nombre_archivo_cv2 = os.path.join(carpeta_guardado_cv2, f'processed_p{i+1}.jpg')\n",
    "                    cv2.imwrite(nombre_archivo_cv2, canal_rojo)\n",
    "\n",
    "                    imagenes_procesadas.append(canal_rojo)\n",
    "\n",
    "                os.chdir(directorio_actual)\n"
   ]
  },
  {
   "attachments": {},
   "cell_type": "markdown",
   "metadata": {},
   "source": [
    "Generamos una carpeta de outputs con los diferentes stitchings de cada imagen.\n",
    "En caso de error modificar el rango de combinaciones, ya que hay algunas combinaciones donde el kernel da error directamente."
   ]
  },
  {
   "cell_type": "code",
   "execution_count": 3,
   "metadata": {},
   "outputs": [],
   "source": [
    "carpeta_principal = \"Parts\"\n",
    "\n",
    "stitcher = cv2.Stitcher.create(mode=0)\n",
    "\n",
    "for directorio in os.listdir(carpeta_principal):\n",
    "    ruta_directorio = os.path.join(carpeta_principal, directorio)\n",
    "\n",
    "    if os.path.isdir(ruta_directorio):\n",
    "        ruta_imgs_procesadas = os.path.join(ruta_directorio, \"bda\", \"imgs_processed_v3\")\n",
    "\n",
    "        imgs_p = [archivo for archivo in os.listdir(ruta_imgs_procesadas) if archivo.endswith(\".jpg\")]\n",
    "\n",
    "        combinaciones = list(itertools.permutations(imgs_p, 6))\n",
    "\n",
    "        carpeta_resultados = os.path.join(ruta_directorio, \"bda\", \"stitching_processed_v3\")\n",
    "        os.makedirs(carpeta_resultados, exist_ok=True)\n",
    "\n",
    "        num_stitchings_exitosos = 0\n",
    "\n",
    "        for i, combinacion in enumerate(combinaciones[10:30]):\n",
    "            imagenes = [cv2.imread(os.path.join(ruta_imgs_procesadas, ruta)) for ruta in combinacion]\n",
    "\n",
    "            resultado, imagen_stitched = stitcher.stitch(imagenes)\n",
    "\n",
    "            if resultado == cv2.Stitcher_OK:\n",
    "                num_stitchings_exitosos += 1\n",
    "\n",
    "                nombre_salida = f\"stitched_{num_stitchings_exitosos}.jpg\"\n",
    "                ruta_salida = os.path.join(carpeta_resultados, nombre_salida)\n",
    "\n",
    "                cv2.imwrite(ruta_salida, imagen_stitched)\n"
   ]
  }
 ],
 "metadata": {
  "kernelspec": {
   "display_name": "Python 3",
   "language": "python",
   "name": "python3"
  },
  "language_info": {
   "codemirror_mode": {
    "name": "ipython",
    "version": 3
   },
   "file_extension": ".py",
   "mimetype": "text/x-python",
   "name": "python",
   "nbconvert_exporter": "python",
   "pygments_lexer": "ipython3",
   "version": "3.9.0"
  },
  "orig_nbformat": 4
 },
 "nbformat": 4,
 "nbformat_minor": 2
}
